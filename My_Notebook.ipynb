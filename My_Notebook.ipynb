{
 "cells": [
  {
   "cell_type": "markdown",
   "id": "f39379e3-f040-47d0-9832-2a441d3e63dc",
   "metadata": {},
   "source": [
    "# My First Program"
   ]
  },
  {
   "cell_type": "code",
   "execution_count": 1,
   "id": "1ee5f295-87b9-46fa-a62b-52eec7e4a3cb",
   "metadata": {},
   "outputs": [
    {
     "data": {
      "text/plain": [
       "2"
      ]
     },
     "execution_count": 1,
     "metadata": {},
     "output_type": "execute_result"
    }
   ],
   "source": [
    "1+1"
   ]
  },
  {
   "cell_type": "code",
   "execution_count": 1,
   "id": "2e14436f-8e28-4d11-abdc-33f5c5538ccd",
   "metadata": {},
   "outputs": [],
   "source": [
    "x = min(5, 10, 25)"
   ]
  },
  {
   "cell_type": "code",
   "execution_count": 2,
   "id": "732e3a13-0f32-4f70-9fe5-383716c789fc",
   "metadata": {},
   "outputs": [],
   "source": [
    "y = max(5, 10, 25)"
   ]
  },
  {
   "cell_type": "code",
   "execution_count": 3,
   "id": "eac0a8a7-025c-4e6a-88bd-a6a91588f219",
   "metadata": {},
   "outputs": [
    {
     "name": "stdout",
     "output_type": "stream",
     "text": [
      "5\n",
      "25\n"
     ]
    }
   ],
   "source": [
    "print(x)\n",
    "print(y)"
   ]
  },
  {
   "cell_type": "code",
   "execution_count": 7,
   "id": "a559e4c0-6031-4edf-9d37-4b0a62d45905",
   "metadata": {},
   "outputs": [
    {
     "name": "stdout",
     "output_type": "stream",
     "text": [
      "64\n"
     ]
    }
   ],
   "source": [
    "z = pow(4, 3)\n",
    "\n",
    "print(z)"
   ]
  },
  {
   "cell_type": "code",
   "execution_count": null,
   "id": "fdeb81a3-74ea-4a3a-9f7d-d64a957039b5",
   "metadata": {},
   "outputs": [],
   "source": []
  }
 ],
 "metadata": {
  "kernelspec": {
   "display_name": "Python 3 (ipykernel)",
   "language": "python",
   "name": "python3"
  },
  "language_info": {
   "codemirror_mode": {
    "name": "ipython",
    "version": 3
   },
   "file_extension": ".py",
   "mimetype": "text/x-python",
   "name": "python",
   "nbconvert_exporter": "python",
   "pygments_lexer": "ipython3",
   "version": "3.12.9"
  }
 },
 "nbformat": 4,
 "nbformat_minor": 5
}
